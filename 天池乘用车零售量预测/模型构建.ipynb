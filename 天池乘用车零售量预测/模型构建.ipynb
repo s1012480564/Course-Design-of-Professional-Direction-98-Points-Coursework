{
 "cells": [
  {
   "cell_type": "markdown",
   "id": "62aaeb10",
   "metadata": {},
   "source": [
    "# 模型构建"
   ]
  },
  {
   "cell_type": "markdown",
   "id": "926dba09",
   "metadata": {},
   "source": [
    "## 读取特征变换后的数据 "
   ]
  },
  {
   "cell_type": "code",
   "execution_count": 1,
   "id": "6b8d60a2",
   "metadata": {},
   "outputs": [],
   "source": [
    "import pandas as pd\n",
    "import numpy as np\n",
    "from sklearn.model_selection import cross_val_score"
   ]
  },
  {
   "cell_type": "code",
   "execution_count": 2,
   "id": "7281319e",
   "metadata": {},
   "outputs": [
    {
     "data": {
      "text/html": [
       "<div>\n",
       "<style scoped>\n",
       "    .dataframe tbody tr th:only-of-type {\n",
       "        vertical-align: middle;\n",
       "    }\n",
       "\n",
       "    .dataframe tbody tr th {\n",
       "        vertical-align: top;\n",
       "    }\n",
       "\n",
       "    .dataframe thead th {\n",
       "        text-align: right;\n",
       "    }\n",
       "</style>\n",
       "<table border=\"1\" class=\"dataframe\">\n",
       "  <thead>\n",
       "    <tr style=\"text-align: right;\">\n",
       "      <th></th>\n",
       "      <th>class_id</th>\n",
       "      <th>compartment</th>\n",
       "      <th>level_id</th>\n",
       "      <th>displacement</th>\n",
       "      <th>price</th>\n",
       "      <th>power</th>\n",
       "      <th>cylinder_number</th>\n",
       "      <th>engine_torque</th>\n",
       "      <th>car_height</th>\n",
       "      <th>total_quality</th>\n",
       "      <th>...</th>\n",
       "      <th>d2_mon_201701</th>\n",
       "      <th>d2_mon_201702</th>\n",
       "      <th>d2_mon_201703</th>\n",
       "      <th>d2_mon_201704</th>\n",
       "      <th>d2_mon_201705</th>\n",
       "      <th>d2_mon_201706</th>\n",
       "      <th>d2_mon_201707</th>\n",
       "      <th>d2_mon_201708</th>\n",
       "      <th>d2_mon_201709</th>\n",
       "      <th>d2_mon_201710</th>\n",
       "    </tr>\n",
       "  </thead>\n",
       "  <tbody>\n",
       "    <tr>\n",
       "      <th>0</th>\n",
       "      <td>103507</td>\n",
       "      <td>2</td>\n",
       "      <td>3</td>\n",
       "      <td>1.6</td>\n",
       "      <td>2.846307</td>\n",
       "      <td>6.482565</td>\n",
       "      <td>4</td>\n",
       "      <td>7.493116</td>\n",
       "      <td>13.553132</td>\n",
       "      <td>13.907014</td>\n",
       "      <td>...</td>\n",
       "      <td>0.0</td>\n",
       "      <td>0.0</td>\n",
       "      <td>0.0</td>\n",
       "      <td>11.0</td>\n",
       "      <td>0.0</td>\n",
       "      <td>0.0</td>\n",
       "      <td>0.0</td>\n",
       "      <td>0.0</td>\n",
       "      <td>0.0</td>\n",
       "      <td>0.0</td>\n",
       "    </tr>\n",
       "    <tr>\n",
       "      <th>1</th>\n",
       "      <td>103507</td>\n",
       "      <td>2</td>\n",
       "      <td>3</td>\n",
       "      <td>1.6</td>\n",
       "      <td>2.846307</td>\n",
       "      <td>6.981564</td>\n",
       "      <td>4</td>\n",
       "      <td>8.604063</td>\n",
       "      <td>13.553132</td>\n",
       "      <td>13.990324</td>\n",
       "      <td>...</td>\n",
       "      <td>0.0</td>\n",
       "      <td>0.0</td>\n",
       "      <td>0.0</td>\n",
       "      <td>23.0</td>\n",
       "      <td>0.0</td>\n",
       "      <td>0.0</td>\n",
       "      <td>0.0</td>\n",
       "      <td>0.0</td>\n",
       "      <td>0.0</td>\n",
       "      <td>0.0</td>\n",
       "    </tr>\n",
       "    <tr>\n",
       "      <th>2</th>\n",
       "      <td>103507</td>\n",
       "      <td>2</td>\n",
       "      <td>3</td>\n",
       "      <td>1.6</td>\n",
       "      <td>2.885846</td>\n",
       "      <td>6.482565</td>\n",
       "      <td>4</td>\n",
       "      <td>7.493116</td>\n",
       "      <td>13.553132</td>\n",
       "      <td>13.716698</td>\n",
       "      <td>...</td>\n",
       "      <td>0.0</td>\n",
       "      <td>0.0</td>\n",
       "      <td>0.0</td>\n",
       "      <td>0.0</td>\n",
       "      <td>0.0</td>\n",
       "      <td>0.0</td>\n",
       "      <td>0.0</td>\n",
       "      <td>0.0</td>\n",
       "      <td>0.0</td>\n",
       "      <td>0.0</td>\n",
       "    </tr>\n",
       "    <tr>\n",
       "      <th>3</th>\n",
       "      <td>103507</td>\n",
       "      <td>2</td>\n",
       "      <td>3</td>\n",
       "      <td>1.6</td>\n",
       "      <td>2.885846</td>\n",
       "      <td>6.482565</td>\n",
       "      <td>4</td>\n",
       "      <td>7.493116</td>\n",
       "      <td>13.553132</td>\n",
       "      <td>13.907014</td>\n",
       "      <td>...</td>\n",
       "      <td>0.0</td>\n",
       "      <td>0.0</td>\n",
       "      <td>0.0</td>\n",
       "      <td>0.0</td>\n",
       "      <td>0.0</td>\n",
       "      <td>0.0</td>\n",
       "      <td>0.0</td>\n",
       "      <td>0.0</td>\n",
       "      <td>0.0</td>\n",
       "      <td>0.0</td>\n",
       "    </tr>\n",
       "    <tr>\n",
       "      <th>4</th>\n",
       "      <td>103507</td>\n",
       "      <td>2</td>\n",
       "      <td>3</td>\n",
       "      <td>1.6</td>\n",
       "      <td>2.885846</td>\n",
       "      <td>6.482565</td>\n",
       "      <td>4</td>\n",
       "      <td>7.493116</td>\n",
       "      <td>13.553132</td>\n",
       "      <td>13.907014</td>\n",
       "      <td>...</td>\n",
       "      <td>0.0</td>\n",
       "      <td>144.0</td>\n",
       "      <td>0.0</td>\n",
       "      <td>0.0</td>\n",
       "      <td>0.0</td>\n",
       "      <td>0.0</td>\n",
       "      <td>0.0</td>\n",
       "      <td>0.0</td>\n",
       "      <td>0.0</td>\n",
       "      <td>180.0</td>\n",
       "    </tr>\n",
       "    <tr>\n",
       "      <th>...</th>\n",
       "      <td>...</td>\n",
       "      <td>...</td>\n",
       "      <td>...</td>\n",
       "      <td>...</td>\n",
       "      <td>...</td>\n",
       "      <td>...</td>\n",
       "      <td>...</td>\n",
       "      <td>...</td>\n",
       "      <td>...</td>\n",
       "      <td>...</td>\n",
       "      <td>...</td>\n",
       "      <td>...</td>\n",
       "      <td>...</td>\n",
       "      <td>...</td>\n",
       "      <td>...</td>\n",
       "      <td>...</td>\n",
       "      <td>...</td>\n",
       "      <td>...</td>\n",
       "      <td>...</td>\n",
       "      <td>...</td>\n",
       "      <td>...</td>\n",
       "    </tr>\n",
       "    <tr>\n",
       "      <th>10217</th>\n",
       "      <td>978089</td>\n",
       "      <td>3</td>\n",
       "      <td>1</td>\n",
       "      <td>1.5</td>\n",
       "      <td>2.736065</td>\n",
       "      <td>6.221214</td>\n",
       "      <td>4</td>\n",
       "      <td>7.338607</td>\n",
       "      <td>13.242388</td>\n",
       "      <td>13.543822</td>\n",
       "      <td>...</td>\n",
       "      <td>0.0</td>\n",
       "      <td>0.0</td>\n",
       "      <td>0.0</td>\n",
       "      <td>205.0</td>\n",
       "      <td>0.0</td>\n",
       "      <td>130.0</td>\n",
       "      <td>-8.0</td>\n",
       "      <td>0.0</td>\n",
       "      <td>-390.0</td>\n",
       "      <td>246.0</td>\n",
       "    </tr>\n",
       "    <tr>\n",
       "      <th>10218</th>\n",
       "      <td>978089</td>\n",
       "      <td>3</td>\n",
       "      <td>1</td>\n",
       "      <td>1.5</td>\n",
       "      <td>2.736065</td>\n",
       "      <td>6.221214</td>\n",
       "      <td>4</td>\n",
       "      <td>7.338607</td>\n",
       "      <td>13.242388</td>\n",
       "      <td>13.571680</td>\n",
       "      <td>...</td>\n",
       "      <td>0.0</td>\n",
       "      <td>0.0</td>\n",
       "      <td>0.0</td>\n",
       "      <td>0.0</td>\n",
       "      <td>0.0</td>\n",
       "      <td>0.0</td>\n",
       "      <td>-298.0</td>\n",
       "      <td>0.0</td>\n",
       "      <td>0.0</td>\n",
       "      <td>0.0</td>\n",
       "    </tr>\n",
       "    <tr>\n",
       "      <th>10219</th>\n",
       "      <td>978089</td>\n",
       "      <td>3</td>\n",
       "      <td>1</td>\n",
       "      <td>1.5</td>\n",
       "      <td>2.736065</td>\n",
       "      <td>6.221214</td>\n",
       "      <td>4</td>\n",
       "      <td>7.338607</td>\n",
       "      <td>13.242388</td>\n",
       "      <td>13.571680</td>\n",
       "      <td>...</td>\n",
       "      <td>0.0</td>\n",
       "      <td>0.0</td>\n",
       "      <td>0.0</td>\n",
       "      <td>186.0</td>\n",
       "      <td>0.0</td>\n",
       "      <td>167.0</td>\n",
       "      <td>0.0</td>\n",
       "      <td>0.0</td>\n",
       "      <td>-410.0</td>\n",
       "      <td>140.0</td>\n",
       "    </tr>\n",
       "    <tr>\n",
       "      <th>10220</th>\n",
       "      <td>978089</td>\n",
       "      <td>3</td>\n",
       "      <td>1</td>\n",
       "      <td>1.5</td>\n",
       "      <td>2.832918</td>\n",
       "      <td>6.221214</td>\n",
       "      <td>4</td>\n",
       "      <td>7.338607</td>\n",
       "      <td>13.242388</td>\n",
       "      <td>13.543822</td>\n",
       "      <td>...</td>\n",
       "      <td>0.0</td>\n",
       "      <td>0.0</td>\n",
       "      <td>0.0</td>\n",
       "      <td>0.0</td>\n",
       "      <td>0.0</td>\n",
       "      <td>0.0</td>\n",
       "      <td>0.0</td>\n",
       "      <td>0.0</td>\n",
       "      <td>0.0</td>\n",
       "      <td>0.0</td>\n",
       "    </tr>\n",
       "    <tr>\n",
       "      <th>10221</th>\n",
       "      <td>978089</td>\n",
       "      <td>3</td>\n",
       "      <td>1</td>\n",
       "      <td>1.5</td>\n",
       "      <td>2.832918</td>\n",
       "      <td>6.221214</td>\n",
       "      <td>4</td>\n",
       "      <td>7.338607</td>\n",
       "      <td>13.242388</td>\n",
       "      <td>13.571680</td>\n",
       "      <td>...</td>\n",
       "      <td>0.0</td>\n",
       "      <td>0.0</td>\n",
       "      <td>0.0</td>\n",
       "      <td>0.0</td>\n",
       "      <td>0.0</td>\n",
       "      <td>0.0</td>\n",
       "      <td>0.0</td>\n",
       "      <td>0.0</td>\n",
       "      <td>0.0</td>\n",
       "      <td>0.0</td>\n",
       "    </tr>\n",
       "  </tbody>\n",
       "</table>\n",
       "<p>10222 rows × 612 columns</p>\n",
       "</div>"
      ],
      "text/plain": [
       "       class_id  compartment  level_id  displacement     price     power  \\\n",
       "0        103507            2         3           1.6  2.846307  6.482565   \n",
       "1        103507            2         3           1.6  2.846307  6.981564   \n",
       "2        103507            2         3           1.6  2.885846  6.482565   \n",
       "3        103507            2         3           1.6  2.885846  6.482565   \n",
       "4        103507            2         3           1.6  2.885846  6.482565   \n",
       "...         ...          ...       ...           ...       ...       ...   \n",
       "10217    978089            3         1           1.5  2.736065  6.221214   \n",
       "10218    978089            3         1           1.5  2.736065  6.221214   \n",
       "10219    978089            3         1           1.5  2.736065  6.221214   \n",
       "10220    978089            3         1           1.5  2.832918  6.221214   \n",
       "10221    978089            3         1           1.5  2.832918  6.221214   \n",
       "\n",
       "       cylinder_number  engine_torque  car_height  total_quality  ...  \\\n",
       "0                    4       7.493116   13.553132      13.907014  ...   \n",
       "1                    4       8.604063   13.553132      13.990324  ...   \n",
       "2                    4       7.493116   13.553132      13.716698  ...   \n",
       "3                    4       7.493116   13.553132      13.907014  ...   \n",
       "4                    4       7.493116   13.553132      13.907014  ...   \n",
       "...                ...            ...         ...            ...  ...   \n",
       "10217                4       7.338607   13.242388      13.543822  ...   \n",
       "10218                4       7.338607   13.242388      13.571680  ...   \n",
       "10219                4       7.338607   13.242388      13.571680  ...   \n",
       "10220                4       7.338607   13.242388      13.543822  ...   \n",
       "10221                4       7.338607   13.242388      13.571680  ...   \n",
       "\n",
       "       d2_mon_201701  d2_mon_201702  d2_mon_201703  d2_mon_201704  \\\n",
       "0                0.0            0.0            0.0           11.0   \n",
       "1                0.0            0.0            0.0           23.0   \n",
       "2                0.0            0.0            0.0            0.0   \n",
       "3                0.0            0.0            0.0            0.0   \n",
       "4                0.0          144.0            0.0            0.0   \n",
       "...              ...            ...            ...            ...   \n",
       "10217            0.0            0.0            0.0          205.0   \n",
       "10218            0.0            0.0            0.0            0.0   \n",
       "10219            0.0            0.0            0.0          186.0   \n",
       "10220            0.0            0.0            0.0            0.0   \n",
       "10221            0.0            0.0            0.0            0.0   \n",
       "\n",
       "       d2_mon_201705  d2_mon_201706  d2_mon_201707  d2_mon_201708  \\\n",
       "0                0.0            0.0            0.0            0.0   \n",
       "1                0.0            0.0            0.0            0.0   \n",
       "2                0.0            0.0            0.0            0.0   \n",
       "3                0.0            0.0            0.0            0.0   \n",
       "4                0.0            0.0            0.0            0.0   \n",
       "...              ...            ...            ...            ...   \n",
       "10217            0.0          130.0           -8.0            0.0   \n",
       "10218            0.0            0.0         -298.0            0.0   \n",
       "10219            0.0          167.0            0.0            0.0   \n",
       "10220            0.0            0.0            0.0            0.0   \n",
       "10221            0.0            0.0            0.0            0.0   \n",
       "\n",
       "       d2_mon_201709  d2_mon_201710  \n",
       "0                0.0            0.0  \n",
       "1                0.0            0.0  \n",
       "2                0.0            0.0  \n",
       "3                0.0            0.0  \n",
       "4                0.0          180.0  \n",
       "...              ...            ...  \n",
       "10217         -390.0          246.0  \n",
       "10218            0.0            0.0  \n",
       "10219         -410.0          140.0  \n",
       "10220            0.0            0.0  \n",
       "10221            0.0            0.0  \n",
       "\n",
       "[10222 rows x 612 columns]"
      ]
     },
     "execution_count": 2,
     "metadata": {},
     "output_type": "execute_result"
    }
   ],
   "source": [
    "train=pd.read_csv('train_FE.csv',index_col=0)\n",
    "train"
   ]
  },
  {
   "cell_type": "code",
   "execution_count": 3,
   "id": "85b3ab2a",
   "metadata": {},
   "outputs": [
    {
     "name": "stdout",
     "output_type": "stream",
     "text": [
      "<class 'pandas.core.frame.DataFrame'>\n",
      "Int64Index: 10222 entries, 0 to 10221\n",
      "Columns: 612 entries, class_id to d2_mon_201710\n",
      "dtypes: float64(319), int64(293)\n",
      "memory usage: 47.8 MB\n"
     ]
    }
   ],
   "source": [
    "train.info()"
   ]
  },
  {
   "cell_type": "markdown",
   "id": "b6d44435",
   "metadata": {},
   "source": [
    "## 划分特征和标签、训练集和测试集 "
   ]
  },
  {
   "cell_type": "markdown",
   "id": "fcf384fc",
   "metadata": {},
   "source": [
    "考虑用波动程度近似的15年和16年做标签来进行训练，预测17年  \n",
    "加入一列标签所在年份的特征  \n",
    "B 榜 201712 的数据预测难度相对更大，因为有 201612 这个异常的前例  \n",
    "所以我们主打 A 榜 201711  \n",
    "用 201511、201611 的销量做标签，直接在训练集上做五折交叉验证调参  \n",
    "直接使用这个模型完成不同月份的预测  \n",
    "把 201510、201610 的销量做标签，预测 201710 的销量，进行本地验证  \n",
    "把 201511、201611 的销量做标签，预测 201711 的销量，提交 A 榜  \n",
    "把 201512、201612 的销量做标签，预测 201712 的销量，提交 B 榜  \n",
    "过程中需要注意的是，删除训练标签相关的差分特征  \n",
    "最后的预测结果需要按照 class_id 分组，对标签做 sum 聚合，还要记得把sale_date补充上，按提交要求来  "
   ]
  },
  {
   "cell_type": "markdown",
   "id": "da3dfb09",
   "metadata": {},
   "source": [
    "11月的"
   ]
  },
  {
   "cell_type": "code",
   "execution_count": 5,
   "id": "6df5e6c4",
   "metadata": {},
   "outputs": [],
   "source": [
    "train11=train.copy()"
   ]
  },
  {
   "cell_type": "code",
   "execution_count": 6,
   "id": "ad784a5a",
   "metadata": {},
   "outputs": [],
   "source": [
    "cols=['d1_201511','d1_201512','d2_201511','d2_201512','d2_201601','d1_mon_201511','d1_mon_201611','d2_mon_201511','d2_mon_201611']\n",
    "train11=train11.drop(cols,axis=1)"
   ]
  },
  {
   "cell_type": "code",
   "execution_count": 7,
   "id": "b3397f2e",
   "metadata": {},
   "outputs": [
    {
     "data": {
      "text/plain": [
       "(20444,)"
      ]
     },
     "execution_count": 7,
     "metadata": {},
     "output_type": "execute_result"
    }
   ],
   "source": [
    "y_train=pd.concat([train11['sale_date_oh_201511'].copy(),train11['sale_date_oh_201611'].copy()],ignore_index=True)\n",
    "y_train.shape"
   ]
  },
  {
   "cell_type": "code",
   "execution_count": 8,
   "id": "1b7fec1d",
   "metadata": {},
   "outputs": [
    {
     "data": {
      "text/plain": [
       "(10222, 600)"
      ]
     },
     "execution_count": 8,
     "metadata": {},
     "output_type": "execute_result"
    }
   ],
   "source": [
    "train11=train11.drop(['class_id','sale_date_oh_201511','sale_date_oh_201611'],axis=1)\n",
    "train11.shape"
   ]
  },
  {
   "cell_type": "code",
   "execution_count": 9,
   "id": "60511bd4",
   "metadata": {},
   "outputs": [
    {
     "data": {
      "text/plain": [
       "((20444, 601), (10222, 601))"
      ]
     },
     "execution_count": 9,
     "metadata": {},
     "output_type": "execute_result"
    }
   ],
   "source": [
    "train11_cp=train11.copy()\n",
    "X_test=train11.copy()\n",
    "train11['year']=15\n",
    "train11_cp['year']=16\n",
    "X_train=pd.concat([train11,train11_cp],ignore_index=True)\n",
    "X_test['year']=17\n",
    "X_train.shape,X_test.shape"
   ]
  },
  {
   "cell_type": "markdown",
   "id": "b90c5392",
   "metadata": {},
   "source": [
    "12月的"
   ]
  },
  {
   "cell_type": "code",
   "execution_count": 10,
   "id": "954dda59",
   "metadata": {},
   "outputs": [],
   "source": [
    "train12=train.copy()"
   ]
  },
  {
   "cell_type": "code",
   "execution_count": 11,
   "id": "d4abdd45",
   "metadata": {},
   "outputs": [],
   "source": [
    "cols=['d1_201512','d1_201601','d2_201512','d2_201601','d2_201602','d1_mon_201512','d1_mon_201612','d2_mon_201512','d2_mon_201612']\n",
    "train12=train12.drop(cols,axis=1)"
   ]
  },
  {
   "cell_type": "code",
   "execution_count": 12,
   "id": "fe14eb1a",
   "metadata": {},
   "outputs": [
    {
     "data": {
      "text/plain": [
       "(20444,)"
      ]
     },
     "execution_count": 12,
     "metadata": {},
     "output_type": "execute_result"
    }
   ],
   "source": [
    "y_train_12=pd.concat([train12['sale_date_oh_201512'].copy(),train12['sale_date_oh_201612'].copy()],ignore_index=True)\n",
    "y_train_12.shape"
   ]
  },
  {
   "cell_type": "code",
   "execution_count": 13,
   "id": "f79d2ab9",
   "metadata": {},
   "outputs": [
    {
     "data": {
      "text/plain": [
       "(10222, 600)"
      ]
     },
     "execution_count": 13,
     "metadata": {},
     "output_type": "execute_result"
    }
   ],
   "source": [
    "train12=train12.drop(['class_id','sale_date_oh_201512','sale_date_oh_201612'],axis=1)\n",
    "train12.shape"
   ]
  },
  {
   "cell_type": "code",
   "execution_count": 14,
   "id": "b1b4bcf6",
   "metadata": {},
   "outputs": [
    {
     "data": {
      "text/plain": [
       "((20444, 601), (10222, 601))"
      ]
     },
     "execution_count": 14,
     "metadata": {},
     "output_type": "execute_result"
    }
   ],
   "source": [
    "train12_cp=train12.copy()\n",
    "X_test_12=train12.copy()\n",
    "train12['year']=15\n",
    "train12_cp['year']=16\n",
    "X_train_12=pd.concat([train12,train12_cp],ignore_index=True)\n",
    "X_test_12['year']=17\n",
    "X_train_12.shape,X_test_12.shape"
   ]
  },
  {
   "cell_type": "markdown",
   "id": "a9cb7ff8",
   "metadata": {},
   "source": [
    "10月的"
   ]
  },
  {
   "cell_type": "code",
   "execution_count": 15,
   "id": "c624b522",
   "metadata": {},
   "outputs": [],
   "source": [
    "train10=train.copy()"
   ]
  },
  {
   "cell_type": "code",
   "execution_count": 16,
   "id": "89df4ed0",
   "metadata": {},
   "outputs": [],
   "source": [
    "cols=['d1_201510','d1_201511','d2_201510','d2_201511','d2_201512','d1_mon_201510',\n",
    "      'd1_mon_201610','d2_mon_201510','d2_mon_201610','d2_mon_201710']\n",
    "train10=train10.drop(cols,axis=1)"
   ]
  },
  {
   "cell_type": "code",
   "execution_count": 17,
   "id": "bdbb2898",
   "metadata": {},
   "outputs": [
    {
     "data": {
      "text/plain": [
       "((20444,), (10222,))"
      ]
     },
     "execution_count": 17,
     "metadata": {},
     "output_type": "execute_result"
    }
   ],
   "source": [
    "y_train_10=pd.concat([train10['sale_date_oh_201510'].copy(),train10['sale_date_oh_201610'].copy()],ignore_index=True)\n",
    "y_test_10=train10['sale_date_oh_201710'].copy()\n",
    "y_train_10.shape,y_test_10.shape"
   ]
  },
  {
   "cell_type": "code",
   "execution_count": 18,
   "id": "118b1622",
   "metadata": {},
   "outputs": [
    {
     "data": {
      "text/plain": [
       "(10222, 598)"
      ]
     },
     "execution_count": 18,
     "metadata": {},
     "output_type": "execute_result"
    }
   ],
   "source": [
    "train10=train10.drop(['class_id','sale_date_oh_201510','sale_date_oh_201610','sale_date_oh_201710'],axis=1)\n",
    "train10.shape"
   ]
  },
  {
   "cell_type": "code",
   "execution_count": 19,
   "id": "9e62e69c",
   "metadata": {},
   "outputs": [
    {
     "data": {
      "text/plain": [
       "((20444, 599), (10222, 599))"
      ]
     },
     "execution_count": 19,
     "metadata": {},
     "output_type": "execute_result"
    }
   ],
   "source": [
    "train10_cp=train10.copy()\n",
    "X_test_10=train10.copy()\n",
    "train10['year']=15\n",
    "train10_cp['year']=16\n",
    "X_train_10=pd.concat([train10,train10_cp],ignore_index=True)\n",
    "X_test_10['year']=17\n",
    "X_train_10.shape,X_test_10.shape"
   ]
  },
  {
   "cell_type": "markdown",
   "id": "cfb39dfa",
   "metadata": {},
   "source": [
    "## 定义五折交叉验证函数"
   ]
  },
  {
   "cell_type": "code",
   "execution_count": 20,
   "id": "f4a6534a",
   "metadata": {},
   "outputs": [],
   "source": [
    "def rmse_cv(model):\n",
    "    rmse=-cross_val_score(model,X_train,y_train,scoring='neg_root_mean_squared_error',cv=5)\n",
    "    return rmse.mean(),rmse.std()"
   ]
  },
  {
   "cell_type": "markdown",
   "id": "9fdfb6c1",
   "metadata": {},
   "source": [
    "## 默认超参数观察所有选定模型的效果"
   ]
  },
  {
   "cell_type": "code",
   "execution_count": 21,
   "id": "4af091ac",
   "metadata": {},
   "outputs": [
    {
     "data": {
      "text/plain": [
       "(17.584506521049658, 3.421066840362865)"
      ]
     },
     "execution_count": 21,
     "metadata": {},
     "output_type": "execute_result"
    }
   ],
   "source": [
    "# 线性回归\n",
    "from sklearn.linear_model import LinearRegression\n",
    "reg=LinearRegression()\n",
    "rmse_cv(reg)"
   ]
  },
  {
   "cell_type": "code",
   "execution_count": 22,
   "id": "0579e062",
   "metadata": {},
   "outputs": [
    {
     "data": {
      "text/plain": [
       "(17.551881228361186, 3.4403297625966203)"
      ]
     },
     "execution_count": 22,
     "metadata": {},
     "output_type": "execute_result"
    }
   ],
   "source": [
    "# 岭回归\n",
    "from sklearn.linear_model import RidgeCV\n",
    "reg=RidgeCV()\n",
    "rmse_cv(reg)"
   ]
  },
  {
   "cell_type": "code",
   "execution_count": 23,
   "id": "272e8d68",
   "metadata": {},
   "outputs": [
    {
     "data": {
      "text/plain": [
       "(109488013778983.84, 31270066348206.465)"
      ]
     },
     "execution_count": 23,
     "metadata": {},
     "output_type": "execute_result"
    }
   ],
   "source": [
    "# 随机梯度下降\n",
    "from sklearn.linear_model import SGDRegressor\n",
    "reg=SGDRegressor()\n",
    "rmse_cv(reg)"
   ]
  },
  {
   "cell_type": "code",
   "execution_count": 24,
   "id": "866199c0",
   "metadata": {},
   "outputs": [
    {
     "data": {
      "text/plain": [
       "(18.80204511526112, 3.317053686206642)"
      ]
     },
     "execution_count": 24,
     "metadata": {},
     "output_type": "execute_result"
    }
   ],
   "source": [
    "# lasso回归\n",
    "from sklearn.linear_model import LassoCV\n",
    "reg=LassoCV()\n",
    "rmse_cv(reg)"
   ]
  },
  {
   "cell_type": "code",
   "execution_count": 25,
   "id": "4b8ba86f",
   "metadata": {},
   "outputs": [
    {
     "data": {
      "text/plain": [
       "(18.785215158956497, 3.2432966536221657)"
      ]
     },
     "execution_count": 25,
     "metadata": {},
     "output_type": "execute_result"
    }
   ],
   "source": [
    "# 弹性网络\n",
    "from sklearn.linear_model import ElasticNetCV\n",
    "reg=ElasticNetCV()\n",
    "rmse_cv(reg)"
   ]
  },
  {
   "cell_type": "code",
   "execution_count": 26,
   "id": "77510f59",
   "metadata": {},
   "outputs": [
    {
     "data": {
      "text/plain": [
       "(19.127340387405674, 2.1311315351948568)"
      ]
     },
     "execution_count": 26,
     "metadata": {},
     "output_type": "execute_result"
    }
   ],
   "source": [
    "# svm\n",
    "from sklearn.svm import SVR\n",
    "reg=SVR()\n",
    "rmse_cv(reg)"
   ]
  },
  {
   "cell_type": "code",
   "execution_count": 27,
   "id": "f3fc234c",
   "metadata": {},
   "outputs": [
    {
     "data": {
      "text/plain": [
       "(16.979928581916244, 6.672636495245062)"
      ]
     },
     "execution_count": 27,
     "metadata": {},
     "output_type": "execute_result"
    }
   ],
   "source": [
    "# 决策树\n",
    "from sklearn.tree import DecisionTreeRegressor\n",
    "reg=DecisionTreeRegressor()\n",
    "rmse_cv(reg)"
   ]
  },
  {
   "cell_type": "code",
   "execution_count": 28,
   "id": "f16a7c42",
   "metadata": {},
   "outputs": [
    {
     "data": {
      "text/plain": [
       "(16.898019384284325, 9.925395970099311)"
      ]
     },
     "execution_count": 28,
     "metadata": {},
     "output_type": "execute_result"
    }
   ],
   "source": [
    "# 极限树\n",
    "from sklearn.tree import ExtraTreeRegressor\n",
    "reg=ExtraTreeRegressor()\n",
    "rmse_cv(reg)"
   ]
  },
  {
   "cell_type": "code",
   "execution_count": 29,
   "id": "31895614",
   "metadata": {},
   "outputs": [
    {
     "data": {
      "text/plain": [
       "(25.14745564585075, 15.182527383358874)"
      ]
     },
     "execution_count": 29,
     "metadata": {},
     "output_type": "execute_result"
    }
   ],
   "source": [
    "# adaboost\n",
    "from sklearn.ensemble import AdaBoostRegressor\n",
    "reg=AdaBoostRegressor()\n",
    "rmse_cv(reg)"
   ]
  },
  {
   "cell_type": "code",
   "execution_count": 30,
   "id": "ffc2bd7b",
   "metadata": {},
   "outputs": [
    {
     "data": {
      "text/plain": [
       "(13.761124246078335, 5.889045919121722)"
      ]
     },
     "execution_count": 30,
     "metadata": {},
     "output_type": "execute_result"
    }
   ],
   "source": [
    "# bagging\n",
    "from sklearn.ensemble import BaggingRegressor\n",
    "reg=BaggingRegressor()\n",
    "rmse_cv(reg)"
   ]
  },
  {
   "cell_type": "code",
   "execution_count": 31,
   "id": "ec2e04d7",
   "metadata": {},
   "outputs": [
    {
     "data": {
      "text/plain": [
       "(12.297424119698688, 6.363977145815164)"
      ]
     },
     "execution_count": 31,
     "metadata": {},
     "output_type": "execute_result"
    }
   ],
   "source": [
    "# 极限随机树\n",
    "from sklearn.ensemble import ExtraTreesRegressor\n",
    "reg=ExtraTreesRegressor()\n",
    "rmse_cv(reg)"
   ]
  },
  {
   "cell_type": "code",
   "execution_count": 32,
   "id": "8be4cd7a",
   "metadata": {},
   "outputs": [
    {
     "data": {
      "text/plain": [
       "(12.165384397507188, 5.289106798882194)"
      ]
     },
     "execution_count": 32,
     "metadata": {},
     "output_type": "execute_result"
    }
   ],
   "source": [
    "# 梯度提升决策树\n",
    "from sklearn.ensemble import GradientBoostingRegressor\n",
    "reg=GradientBoostingRegressor()\n",
    "rmse_cv(reg)"
   ]
  },
  {
   "cell_type": "code",
   "execution_count": 33,
   "id": "f015d187",
   "metadata": {},
   "outputs": [
    {
     "data": {
      "text/plain": [
       "(12.881916182578674, 5.62271773690681)"
      ]
     },
     "execution_count": 33,
     "metadata": {},
     "output_type": "execute_result"
    }
   ],
   "source": [
    "# 随机森林\n",
    "from sklearn.ensemble import RandomForestRegressor\n",
    "reg=RandomForestRegressor()\n",
    "rmse_cv(reg)"
   ]
  },
  {
   "cell_type": "code",
   "execution_count": 34,
   "id": "b5cec349",
   "metadata": {},
   "outputs": [
    {
     "data": {
      "text/plain": [
       "(20.341516999269064, 1.224284402066326)"
      ]
     },
     "execution_count": 34,
     "metadata": {},
     "output_type": "execute_result"
    }
   ],
   "source": [
    "# knn\n",
    "from sklearn.neighbors import KNeighborsRegressor\n",
    "reg=KNeighborsRegressor()\n",
    "rmse_cv(reg)"
   ]
  },
  {
   "cell_type": "code",
   "execution_count": 35,
   "id": "b621a2e6",
   "metadata": {
    "scrolled": false
   },
   "outputs": [],
   "source": [
    "# 限定半径最近邻回归树\n",
    "# from sklearn.neighbors import RadiusNeighborsRegressor\n",
    "# reg=RadiusNeighborsRegressor()\n",
    "# rmse_cv(reg)\n",
    "# UserWarning: One or more samples have no neighbors within specified radius; predicting NaN.\n",
    "# 这个不行"
   ]
  },
  {
   "cell_type": "code",
   "execution_count": 36,
   "id": "e0099d02",
   "metadata": {},
   "outputs": [
    {
     "data": {
      "text/plain": [
       "(14.07841639142581, 3.399830167608544)"
      ]
     },
     "execution_count": 36,
     "metadata": {},
     "output_type": "execute_result"
    }
   ],
   "source": [
    "# xgboost\n",
    "from xgboost import XGBRegressor\n",
    "reg=XGBRegressor()\n",
    "rmse_cv(reg)"
   ]
  },
  {
   "cell_type": "code",
   "execution_count": 37,
   "id": "a6113fc9",
   "metadata": {},
   "outputs": [
    {
     "data": {
      "text/plain": [
       "(12.160439068995938, 5.184023958419302)"
      ]
     },
     "execution_count": 37,
     "metadata": {},
     "output_type": "execute_result"
    }
   ],
   "source": [
    "# xgboost随机森林\n",
    "from xgboost import XGBRFRegressor\n",
    "reg=XGBRFRegressor()\n",
    "rmse_cv(reg)"
   ]
  },
  {
   "cell_type": "code",
   "execution_count": 38,
   "id": "f068990c",
   "metadata": {},
   "outputs": [
    {
     "data": {
      "text/plain": [
       "(12.122678184394516, 5.10419514443187)"
      ]
     },
     "execution_count": 38,
     "metadata": {},
     "output_type": "execute_result"
    }
   ],
   "source": [
    "# lgbm\n",
    "from lightgbm import LGBMRegressor\n",
    "reg=LGBMRegressor()\n",
    "rmse_cv(reg)"
   ]
  },
  {
   "cell_type": "markdown",
   "id": "f1e34110",
   "metadata": {},
   "source": [
    "通过结果可以看到，树形模型效果都挺不错的  \n",
    "其中rmse五折均值最小的三个模型是 lgbm, xgbrf, gbdt  \n",
    "考虑对这三个模型进一步调参，使用懒人stacking融合  "
   ]
  },
  {
   "cell_type": "markdown",
   "id": "7206b41b",
   "metadata": {},
   "source": [
    "## 调参"
   ]
  },
  {
   "cell_type": "markdown",
   "id": "eadcff85",
   "metadata": {},
   "source": [
    "调参使用的是网格搜索+手动玄学瞎试  \n",
    "本文档省略了调参过程的记录，仅保留最终的结果"
   ]
  },
  {
   "cell_type": "code",
   "execution_count": 39,
   "id": "18181a7c",
   "metadata": {},
   "outputs": [
    {
     "data": {
      "text/plain": [
       "(11.27050850184436, 5.139872709261197)"
      ]
     },
     "execution_count": 39,
     "metadata": {},
     "output_type": "execute_result"
    }
   ],
   "source": [
    "from lightgbm import LGBMRegressor\n",
    "lgbm=LGBMRegressor(learning_rate=0.03,num_leaves=63)\n",
    "rmse_cv(lgbm)"
   ]
  },
  {
   "cell_type": "code",
   "execution_count": 40,
   "id": "f3788f68",
   "metadata": {},
   "outputs": [
    {
     "data": {
      "text/plain": [
       "(11.61352752585535, 5.720931179398938)"
      ]
     },
     "execution_count": 40,
     "metadata": {},
     "output_type": "execute_result"
    }
   ],
   "source": [
    "# xgbrf\n",
    "from xgboost import XGBRFRegressor\n",
    "xgbrf=XGBRFRegressor(random_state=0,subsample=0.5,max_depth=5,min_child_weight=1.2)\n",
    "rmse_cv(xgbrf)"
   ]
  },
  {
   "cell_type": "code",
   "execution_count": 41,
   "id": "0f51294c",
   "metadata": {},
   "outputs": [
    {
     "data": {
      "text/plain": [
       "(12.122678184394516, 5.10419514443187)"
      ]
     },
     "execution_count": 41,
     "metadata": {},
     "output_type": "execute_result"
    }
   ],
   "source": [
    "# gbdt\n",
    "from sklearn.ensemble import GradientBoostingRegressor\n",
    "gbdt=GradientBoostingRegressor(random_state=0)\n",
    "rmse_cv(reg)\n",
    "# 不管咋调，最好都只有十二点一几的rmse，只会变得更差，不会有明显变好，太离谱了，最后我们保留了这个默认参数的GBDT"
   ]
  },
  {
   "cell_type": "markdown",
   "id": "499ce15b",
   "metadata": {},
   "source": [
    "## 模型融合"
   ]
  },
  {
   "cell_type": "markdown",
   "id": "cb1e2581",
   "metadata": {},
   "source": [
    "懒人融合法之stacking"
   ]
  },
  {
   "cell_type": "code",
   "execution_count": 42,
   "id": "ae7c5b31",
   "metadata": {},
   "outputs": [
    {
     "data": {
      "text/plain": [
       "(11.984012218202823, 5.092967833654622)"
      ]
     },
     "execution_count": 42,
     "metadata": {},
     "output_type": "execute_result"
    }
   ],
   "source": [
    "from sklearn.ensemble import StackingRegressor\n",
    "stacking=StackingRegressor([('lgbm',lgbm),('xgbrf',xgbrf),('gbdt',gbdt)],final_estimator=lgbm,cv=5)\n",
    "rmse_cv(stacking)"
   ]
  },
  {
   "cell_type": "markdown",
   "id": "0a00c6d4",
   "metadata": {},
   "source": [
    "看起来融合之后似乎比单独的调参后的 lgbm 差了一点点  \n",
    "关于这个问题我之前也简单查过，给出的答案是，理论上来讲，stacking应该不会明显变差  \n",
    "实际上我认为这样融合之后，应该在一定程度上消除了一点过拟合  "
   ]
  },
  {
   "cell_type": "markdown",
   "id": "c731af24",
   "metadata": {},
   "source": [
    "## 本地验证 "
   ]
  },
  {
   "cell_type": "code",
   "execution_count": 43,
   "id": "d251d47a",
   "metadata": {},
   "outputs": [
    {
     "data": {
      "text/plain": [
       "173.05585384701337"
      ]
     },
     "execution_count": 43,
     "metadata": {},
     "output_type": "execute_result"
    }
   ],
   "source": [
    "from sklearn.metrics import mean_squared_error\n",
    "stacking.fit(X_train_10,y_train_10)\n",
    "y_pred_10=stacking.predict(X_test_10)\n",
    "y_test_tmp=pd.DataFrame({'class_id':train['class_id'].tolist(),'sale_quantity':y_test_10.tolist()})\n",
    "y_pred_tmp=pd.DataFrame({'class_id':train['class_id'].tolist(),'sale_quantity':y_pred_10.tolist()})\n",
    "y_test_group=y_test_tmp.groupby('class_id').sum()\n",
    "y_pred_group=y_pred_tmp.groupby('class_id').sum()\n",
    "np.sqrt(mean_squared_error(y_test_group,y_pred_group))"
   ]
  },
  {
   "cell_type": "code",
   "execution_count": 44,
   "id": "f553cfb5",
   "metadata": {},
   "outputs": [
    {
     "data": {
      "text/html": [
       "<div>\n",
       "<style scoped>\n",
       "    .dataframe tbody tr th:only-of-type {\n",
       "        vertical-align: middle;\n",
       "    }\n",
       "\n",
       "    .dataframe tbody tr th {\n",
       "        vertical-align: top;\n",
       "    }\n",
       "\n",
       "    .dataframe thead th {\n",
       "        text-align: right;\n",
       "    }\n",
       "</style>\n",
       "<table border=\"1\" class=\"dataframe\">\n",
       "  <thead>\n",
       "    <tr style=\"text-align: right;\">\n",
       "      <th></th>\n",
       "      <th>sale_quantity</th>\n",
       "    </tr>\n",
       "    <tr>\n",
       "      <th>class_id</th>\n",
       "      <th></th>\n",
       "    </tr>\n",
       "  </thead>\n",
       "  <tbody>\n",
       "    <tr>\n",
       "      <th>103507</th>\n",
       "      <td>180.0</td>\n",
       "    </tr>\n",
       "    <tr>\n",
       "      <th>124140</th>\n",
       "      <td>263.0</td>\n",
       "    </tr>\n",
       "    <tr>\n",
       "      <th>125403</th>\n",
       "      <td>156.0</td>\n",
       "    </tr>\n",
       "    <tr>\n",
       "      <th>136916</th>\n",
       "      <td>162.0</td>\n",
       "    </tr>\n",
       "    <tr>\n",
       "      <th>169673</th>\n",
       "      <td>152.0</td>\n",
       "    </tr>\n",
       "    <tr>\n",
       "      <th>...</th>\n",
       "      <td>...</td>\n",
       "    </tr>\n",
       "    <tr>\n",
       "      <th>961362</th>\n",
       "      <td>73.0</td>\n",
       "    </tr>\n",
       "    <tr>\n",
       "      <th>961962</th>\n",
       "      <td>80.0</td>\n",
       "    </tr>\n",
       "    <tr>\n",
       "      <th>963845</th>\n",
       "      <td>207.0</td>\n",
       "    </tr>\n",
       "    <tr>\n",
       "      <th>973106</th>\n",
       "      <td>108.0</td>\n",
       "    </tr>\n",
       "    <tr>\n",
       "      <th>978089</th>\n",
       "      <td>144.0</td>\n",
       "    </tr>\n",
       "  </tbody>\n",
       "</table>\n",
       "<p>140 rows × 1 columns</p>\n",
       "</div>"
      ],
      "text/plain": [
       "          sale_quantity\n",
       "class_id               \n",
       "103507            180.0\n",
       "124140            263.0\n",
       "125403            156.0\n",
       "136916            162.0\n",
       "169673            152.0\n",
       "...                 ...\n",
       "961362             73.0\n",
       "961962             80.0\n",
       "963845            207.0\n",
       "973106            108.0\n",
       "978089            144.0\n",
       "\n",
       "[140 rows x 1 columns]"
      ]
     },
     "execution_count": 44,
     "metadata": {},
     "output_type": "execute_result"
    }
   ],
   "source": [
    "y_test_group"
   ]
  },
  {
   "cell_type": "code",
   "execution_count": 45,
   "id": "62fc1513",
   "metadata": {},
   "outputs": [
    {
     "data": {
      "text/html": [
       "<div>\n",
       "<style scoped>\n",
       "    .dataframe tbody tr th:only-of-type {\n",
       "        vertical-align: middle;\n",
       "    }\n",
       "\n",
       "    .dataframe tbody tr th {\n",
       "        vertical-align: top;\n",
       "    }\n",
       "\n",
       "    .dataframe thead th {\n",
       "        text-align: right;\n",
       "    }\n",
       "</style>\n",
       "<table border=\"1\" class=\"dataframe\">\n",
       "  <thead>\n",
       "    <tr style=\"text-align: right;\">\n",
       "      <th></th>\n",
       "      <th>sale_quantity</th>\n",
       "    </tr>\n",
       "    <tr>\n",
       "      <th>class_id</th>\n",
       "      <th></th>\n",
       "    </tr>\n",
       "  </thead>\n",
       "  <tbody>\n",
       "    <tr>\n",
       "      <th>103507</th>\n",
       "      <td>126.097782</td>\n",
       "    </tr>\n",
       "    <tr>\n",
       "      <th>124140</th>\n",
       "      <td>314.349413</td>\n",
       "    </tr>\n",
       "    <tr>\n",
       "      <th>125403</th>\n",
       "      <td>134.062990</td>\n",
       "    </tr>\n",
       "    <tr>\n",
       "      <th>136916</th>\n",
       "      <td>186.732947</td>\n",
       "    </tr>\n",
       "    <tr>\n",
       "      <th>169673</th>\n",
       "      <td>0.253726</td>\n",
       "    </tr>\n",
       "    <tr>\n",
       "      <th>...</th>\n",
       "      <td>...</td>\n",
       "    </tr>\n",
       "    <tr>\n",
       "      <th>961362</th>\n",
       "      <td>63.129891</td>\n",
       "    </tr>\n",
       "    <tr>\n",
       "      <th>961962</th>\n",
       "      <td>216.200524</td>\n",
       "    </tr>\n",
       "    <tr>\n",
       "      <th>963845</th>\n",
       "      <td>247.041849</td>\n",
       "    </tr>\n",
       "    <tr>\n",
       "      <th>973106</th>\n",
       "      <td>3.044707</td>\n",
       "    </tr>\n",
       "    <tr>\n",
       "      <th>978089</th>\n",
       "      <td>403.475653</td>\n",
       "    </tr>\n",
       "  </tbody>\n",
       "</table>\n",
       "<p>140 rows × 1 columns</p>\n",
       "</div>"
      ],
      "text/plain": [
       "          sale_quantity\n",
       "class_id               \n",
       "103507       126.097782\n",
       "124140       314.349413\n",
       "125403       134.062990\n",
       "136916       186.732947\n",
       "169673         0.253726\n",
       "...                 ...\n",
       "961362        63.129891\n",
       "961962       216.200524\n",
       "963845       247.041849\n",
       "973106         3.044707\n",
       "978089       403.475653\n",
       "\n",
       "[140 rows x 1 columns]"
      ]
     },
     "execution_count": 45,
     "metadata": {},
     "output_type": "execute_result"
    }
   ],
   "source": [
    "y_pred_group"
   ]
  },
  {
   "cell_type": "markdown",
   "id": "be04922f",
   "metadata": {},
   "source": [
    "简单看了一下本地验证的效果  \n",
    "感觉还不错，大部分都是差个10到60那样  \n",
    "rmse 173，很不错  \n",
    "10月总体销售量会比11月小一点  \n",
    "所以11、12月的 rmse 肯定还要高一些  \n",
    "但差距不会太大，毕竟预测的手法上是完全一致的，评分方式也准确无误  \n",
    "本地验证的结果完全可以用来做参考的  \n",
    "我认为我们的结果至少打进复赛是没啥问题的  "
   ]
  },
  {
   "cell_type": "markdown",
   "id": "fc90fd56",
   "metadata": {},
   "source": [
    "## 对天池测试集预测并保存为CSV"
   ]
  },
  {
   "cell_type": "code",
   "execution_count": 46,
   "id": "1b2036c6",
   "metadata": {},
   "outputs": [],
   "source": [
    "stacking.fit(X_train,y_train)\n",
    "y_predA=stacking.predict(X_test)\n",
    "y_predA_tmp=pd.DataFrame({'class_id':train['class_id'].tolist(),'predict_quantity':y_predA.tolist()})\n",
    "y_predA_group=y_predA_tmp.groupby('class_id').sum()"
   ]
  },
  {
   "cell_type": "code",
   "execution_count": 47,
   "id": "73f017bb",
   "metadata": {},
   "outputs": [
    {
     "data": {
      "text/html": [
       "<div>\n",
       "<style scoped>\n",
       "    .dataframe tbody tr th:only-of-type {\n",
       "        vertical-align: middle;\n",
       "    }\n",
       "\n",
       "    .dataframe tbody tr th {\n",
       "        vertical-align: top;\n",
       "    }\n",
       "\n",
       "    .dataframe thead th {\n",
       "        text-align: right;\n",
       "    }\n",
       "</style>\n",
       "<table border=\"1\" class=\"dataframe\">\n",
       "  <thead>\n",
       "    <tr style=\"text-align: right;\">\n",
       "      <th></th>\n",
       "      <th>predict_date</th>\n",
       "      <th>class_id</th>\n",
       "      <th>predict_quantity</th>\n",
       "    </tr>\n",
       "  </thead>\n",
       "  <tbody>\n",
       "    <tr>\n",
       "      <th>0</th>\n",
       "      <td>201711</td>\n",
       "      <td>103507</td>\n",
       "      <td>80.667825</td>\n",
       "    </tr>\n",
       "    <tr>\n",
       "      <th>1</th>\n",
       "      <td>201711</td>\n",
       "      <td>124140</td>\n",
       "      <td>325.773384</td>\n",
       "    </tr>\n",
       "    <tr>\n",
       "      <th>2</th>\n",
       "      <td>201711</td>\n",
       "      <td>125403</td>\n",
       "      <td>115.012354</td>\n",
       "    </tr>\n",
       "    <tr>\n",
       "      <th>3</th>\n",
       "      <td>201711</td>\n",
       "      <td>136916</td>\n",
       "      <td>249.757774</td>\n",
       "    </tr>\n",
       "    <tr>\n",
       "      <th>4</th>\n",
       "      <td>201711</td>\n",
       "      <td>169673</td>\n",
       "      <td>0.318698</td>\n",
       "    </tr>\n",
       "    <tr>\n",
       "      <th>...</th>\n",
       "      <td>...</td>\n",
       "      <td>...</td>\n",
       "      <td>...</td>\n",
       "    </tr>\n",
       "    <tr>\n",
       "      <th>135</th>\n",
       "      <td>201711</td>\n",
       "      <td>961362</td>\n",
       "      <td>80.122599</td>\n",
       "    </tr>\n",
       "    <tr>\n",
       "      <th>136</th>\n",
       "      <td>201711</td>\n",
       "      <td>961962</td>\n",
       "      <td>249.523367</td>\n",
       "    </tr>\n",
       "    <tr>\n",
       "      <th>137</th>\n",
       "      <td>201711</td>\n",
       "      <td>963845</td>\n",
       "      <td>174.649047</td>\n",
       "    </tr>\n",
       "    <tr>\n",
       "      <th>138</th>\n",
       "      <td>201711</td>\n",
       "      <td>973106</td>\n",
       "      <td>12.637976</td>\n",
       "    </tr>\n",
       "    <tr>\n",
       "      <th>139</th>\n",
       "      <td>201711</td>\n",
       "      <td>978089</td>\n",
       "      <td>440.629023</td>\n",
       "    </tr>\n",
       "  </tbody>\n",
       "</table>\n",
       "<p>140 rows × 3 columns</p>\n",
       "</div>"
      ],
      "text/plain": [
       "     predict_date  class_id  predict_quantity\n",
       "0          201711    103507         80.667825\n",
       "1          201711    124140        325.773384\n",
       "2          201711    125403        115.012354\n",
       "3          201711    136916        249.757774\n",
       "4          201711    169673          0.318698\n",
       "..            ...       ...               ...\n",
       "135        201711    961362         80.122599\n",
       "136        201711    961962        249.523367\n",
       "137        201711    963845        174.649047\n",
       "138        201711    973106         12.637976\n",
       "139        201711    978089        440.629023\n",
       "\n",
       "[140 rows x 3 columns]"
      ]
     },
     "execution_count": 47,
     "metadata": {},
     "output_type": "execute_result"
    }
   ],
   "source": [
    "y_predA_group.to_csv('submission_A.csv')\n",
    "df=pd.read_csv('submission_A.csv')\n",
    "df.insert(0,'predict_date',201711)\n",
    "df.to_csv('submission_A.csv',index=0)\n",
    "df"
   ]
  },
  {
   "cell_type": "code",
   "execution_count": 48,
   "id": "44be6b97",
   "metadata": {},
   "outputs": [],
   "source": [
    "stacking.fit(X_train_12,y_train_12)\n",
    "y_predB=stacking.predict(X_test_12)\n",
    "y_predB_tmp=pd.DataFrame({'class_id':train['class_id'].tolist(),'predict_quantity':y_predB.tolist()})\n",
    "y_predB_group=y_predB_tmp.groupby('class_id').sum()"
   ]
  },
  {
   "cell_type": "code",
   "execution_count": 49,
   "id": "e24668de",
   "metadata": {
    "scrolled": true
   },
   "outputs": [
    {
     "data": {
      "text/html": [
       "<div>\n",
       "<style scoped>\n",
       "    .dataframe tbody tr th:only-of-type {\n",
       "        vertical-align: middle;\n",
       "    }\n",
       "\n",
       "    .dataframe tbody tr th {\n",
       "        vertical-align: top;\n",
       "    }\n",
       "\n",
       "    .dataframe thead th {\n",
       "        text-align: right;\n",
       "    }\n",
       "</style>\n",
       "<table border=\"1\" class=\"dataframe\">\n",
       "  <thead>\n",
       "    <tr style=\"text-align: right;\">\n",
       "      <th></th>\n",
       "      <th>predict_date</th>\n",
       "      <th>class_id</th>\n",
       "      <th>predict_quantity</th>\n",
       "    </tr>\n",
       "  </thead>\n",
       "  <tbody>\n",
       "    <tr>\n",
       "      <th>0</th>\n",
       "      <td>201712</td>\n",
       "      <td>103507</td>\n",
       "      <td>641.770161</td>\n",
       "    </tr>\n",
       "    <tr>\n",
       "      <th>1</th>\n",
       "      <td>201712</td>\n",
       "      <td>124140</td>\n",
       "      <td>519.520347</td>\n",
       "    </tr>\n",
       "    <tr>\n",
       "      <th>2</th>\n",
       "      <td>201712</td>\n",
       "      <td>125403</td>\n",
       "      <td>198.829271</td>\n",
       "    </tr>\n",
       "    <tr>\n",
       "      <th>3</th>\n",
       "      <td>201712</td>\n",
       "      <td>136916</td>\n",
       "      <td>345.108314</td>\n",
       "    </tr>\n",
       "    <tr>\n",
       "      <th>4</th>\n",
       "      <td>201712</td>\n",
       "      <td>169673</td>\n",
       "      <td>0.495891</td>\n",
       "    </tr>\n",
       "    <tr>\n",
       "      <th>...</th>\n",
       "      <td>...</td>\n",
       "      <td>...</td>\n",
       "      <td>...</td>\n",
       "    </tr>\n",
       "    <tr>\n",
       "      <th>135</th>\n",
       "      <td>201712</td>\n",
       "      <td>961362</td>\n",
       "      <td>141.844900</td>\n",
       "    </tr>\n",
       "    <tr>\n",
       "      <th>136</th>\n",
       "      <td>201712</td>\n",
       "      <td>961962</td>\n",
       "      <td>347.268192</td>\n",
       "    </tr>\n",
       "    <tr>\n",
       "      <th>137</th>\n",
       "      <td>201712</td>\n",
       "      <td>963845</td>\n",
       "      <td>274.287513</td>\n",
       "    </tr>\n",
       "    <tr>\n",
       "      <th>138</th>\n",
       "      <td>201712</td>\n",
       "      <td>973106</td>\n",
       "      <td>22.744881</td>\n",
       "    </tr>\n",
       "    <tr>\n",
       "      <th>139</th>\n",
       "      <td>201712</td>\n",
       "      <td>978089</td>\n",
       "      <td>1096.477072</td>\n",
       "    </tr>\n",
       "  </tbody>\n",
       "</table>\n",
       "<p>140 rows × 3 columns</p>\n",
       "</div>"
      ],
      "text/plain": [
       "     predict_date  class_id  predict_quantity\n",
       "0          201712    103507        641.770161\n",
       "1          201712    124140        519.520347\n",
       "2          201712    125403        198.829271\n",
       "3          201712    136916        345.108314\n",
       "4          201712    169673          0.495891\n",
       "..            ...       ...               ...\n",
       "135        201712    961362        141.844900\n",
       "136        201712    961962        347.268192\n",
       "137        201712    963845        274.287513\n",
       "138        201712    973106         22.744881\n",
       "139        201712    978089       1096.477072\n",
       "\n",
       "[140 rows x 3 columns]"
      ]
     },
     "execution_count": 49,
     "metadata": {},
     "output_type": "execute_result"
    }
   ],
   "source": [
    "y_predB_group.to_csv('submission_B.csv')\n",
    "df=pd.read_csv('submission_B.csv')\n",
    "df.insert(0,'predict_date',201712)\n",
    "df.to_csv('submission_B.csv',index=0)\n",
    "df"
   ]
  },
  {
   "cell_type": "markdown",
   "id": "1dcfbfaa",
   "metadata": {},
   "source": [
    "完结撒花~"
   ]
  }
 ],
 "metadata": {
  "kernelspec": {
   "display_name": "Python 3",
   "language": "python",
   "name": "python3"
  },
  "language_info": {
   "codemirror_mode": {
    "name": "ipython",
    "version": 3
   },
   "file_extension": ".py",
   "mimetype": "text/x-python",
   "name": "python",
   "nbconvert_exporter": "python",
   "pygments_lexer": "ipython3",
   "version": "3.8.8"
  }
 },
 "nbformat": 4,
 "nbformat_minor": 5
}
